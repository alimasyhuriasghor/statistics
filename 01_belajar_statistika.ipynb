{
 "cells": [
  {
   "cell_type": "markdown",
   "id": "aa651b07-022e-4196-9582-ad7bb565fbf4",
   "metadata": {},
   "source": [
    "# 1. Pengantar Belajar Statistika Dasar | Belajar Statistika Deskriptif"
   ]
  },
  {
   "cell_type": "markdown",
   "id": "7ea29788-b20e-45e5-803e-c258829c18b8",
   "metadata": {},
   "source": [
    "## Mengapa Belajar Statistika?\n",
    "\n",
    "Statistika adalah ilmu fundamental yang merupakan jantung penggerak utama dari bidang-bidang kealihan seperti data warehouse, data mining, big data analytics, machine learning, dan data science. Maka dari itu, kita harus mempelajari statistika untuk bisa menguasai bidang-bidang keahlian seperti ini. "
   ]
  },
  {
   "cell_type": "markdown",
   "id": "a2fbf8c1-f816-4cfd-8798-4485e9bed88c",
   "metadata": {
    "jp-MarkdownHeadingCollapsed": true
   },
   "source": [
    "## Apa Itu Statistika | Definisi Statisika Dan Data\n",
    "\n",
    "### Statistika (Statistics)\n",
    "\n",
    "Statistika adalah bidang keilmuan yang mencakup: pengumpulan (collecting), pengelolaan (organizing), analisis (analysing), dan interpretasi (interpreting) data untuk pengambilan keputusan.\n",
    "\n",
    "### Data\n",
    "\n",
    "Data adalah sebuah kumpulan informasi yang diperoleh melalui: pengamatan (observations), penghitungan (counts), pengukuran (measurements), dan responsi (responses)."
   ]
  },
  {
   "cell_type": "markdown",
   "id": "4902ca73-802a-4caf-93b9-3ac4f0e00f8b",
   "metadata": {},
   "source": [
    "## Pengenalan Populasi Dan Sampel\n",
    "\n",
    "Terkait dataset, terdapat dua dataset yang dikenal dalam statistika, yaitu populasi dan sample.\n",
    "\n",
    "### Populasi\n",
    "\n",
    "Kumpulan dari keseluruhan pengamatan, penghitungan, pengukuran, atau reponsi terhadap topik yang ingin dikaji.\n",
    "\n",
    "### Sample (Samples)\n",
    "\n",
    "- Bagian dari populasi\n",
    "- Sample yang baik adalah sample yang baik terhadap populasi sehingga dapat digunakan untuk menarik kesimpulan (conclusions) terhadap populasi\n",
    "- Oleh karenanya, data sample harus dikumpulkan dengan metode yang tepat (e.g., random sampling).\n",
    "\n",
    "### Populasi & Sample: contoh\n",
    "\n",
    "- **Sample**: Suatu survey dilakukan di 35 perguruan tinggi di Indonesia untuk menanyakan apakah seorang mahasiswa pernah mengalami bully selama studi di perguruan tinggi. Didapati 237 dari total 972 (`24.4%`) responden mengaku pernah mengalami bully selama menjalani studi di perguruan tinggi.\n",
    "\n",
    "- **Populasi**: Warga kompleks perumahan Suka Rapi yang terdiri dari total 45 kepala keluaraga berencana untuk mempercantik kompleks dengan melakukan peremajaan paving jalan. Pendanaan akan dilakukan secara kolektif berdasarkan ukuran lebar dari setiap rumah. Oleh karenanya, dilangsungkan pengukuran dan pendataan lebar muka dari setiap rumah. "
   ]
  },
  {
   "cell_type": "markdown",
   "id": "39308b91-710e-4901-a150-a05ad8f2d7a6",
   "metadata": {},
   "source": [
    "## Pengenalan Parameter Dan Statistik\n",
    "\n",
    "### Parameter\n",
    "\n",
    "- Deskripsi numerik dari karakteristik suatu populasi (population)\n",
    "- Terdapat hanya satu **parameter** untuk satu populasi\n",
    "\n",
    "### Statistik (Statistic)\n",
    "\n",
    "- Deskripsi numerik dari karakteristik suatu sample (sample)\n",
    "- Memungkinkan untuk mendapati sejumlah **statistik** dengan nilai yang beragam untuk satu populasi yang sama\n",
    "\n",
    "### Parameter Dan Statistik: contoh\n",
    "\n",
    "- **Statistik**: Dari hasil uji emisi yang dilakukan secara acak terhadap kendaraan bermotor yang melintas di Jalan Suka Makmur, didapati 48% kendaraan yang tidak memenuhi standar kelayakan.\n",
    "\n",
    "- **Parameter**: Dari hasi ujian saringan masuk perguruan tinggi di Universitas Suka Pintar pada tahun ini, ditemui 78% dari calon mahasiswa yang memiliki kemampuan analisis numerik diatas ambang batas (threshold) yang disyaratkan.  "
   ]
  },
  {
   "cell_type": "markdown",
   "id": "27ca50f4-4ad6-4202-9af7-06de17e7de4c",
   "metadata": {},
   "source": [
    "## Cabang Ilmu Statistika\n",
    "\n",
    "### Statistika Deskriptif (Descriptive Statistics)\n",
    "\n",
    "Cabang ilmu statistika yang berfokus pada: pengelolaan data (organisation), peringkasan data (summarization), dan visualisasi data (display/visualization).\n",
    "\n",
    "### Statistika Inferensi (Inferential Statistics)\n",
    "\n",
    "Cabang ilmu statisika yang berfokus pada pemanfaatan **sample** untuk menarik simpulan terhadap **populasi**."
   ]
  }
 ],
 "metadata": {
  "kernelspec": {
   "display_name": "Python 3 (ipykernel)",
   "language": "python",
   "name": "python3"
  },
  "language_info": {
   "codemirror_mode": {
    "name": "ipython",
    "version": 3
   },
   "file_extension": ".py",
   "mimetype": "text/x-python",
   "name": "python",
   "nbconvert_exporter": "python",
   "pygments_lexer": "ipython3",
   "version": "3.12.7"
  }
 },
 "nbformat": 4,
 "nbformat_minor": 5
}
