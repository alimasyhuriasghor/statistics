{
 "cells": [
  {
   "cell_type": "markdown",
   "id": "fb27a8fe-1824-424e-a05a-16b13f075b11",
   "metadata": {},
   "source": [
    "# Pengenalan Statistik\n",
    "Statistik adalah ilmu yang mempelajari cara mengumpulkan, mengolah, menganalisis, menyimpulkan, dan menyajikan informasi/data (e.g., survey pilpres).\n",
    "\n",
    "Ada beberapa istilah dalam statistika yang akan kita pelajari:\n",
    "\n",
    "- **Data**: Data adalah sekumpulan informasi. Data terbagi menjadi dua jenis, yaitu primer (yang langsung diperoleh) dan sekunder (data yang sudah diolah).\n",
    "- **Datum**: Datum adalah sebagian dari kumpulan data atau informasi.\n",
    "- **Populasi**: Sekumpulan orang/benda yang akan diteliti.\n",
    "- **Sample**: Sebagian dari populasi yang akan lebih dalam diteliti.\n",
    "- **Frekuensi**: Jumlah data tertentu yang memiliki karakter yang sama. Misalnya, jumlah (frekuensi) anak berumur 12 tahun ada 8 orang."
   ]
  },
  {
   "cell_type": "markdown",
   "id": "f1d94702-57a2-4bce-a23b-671e9c30c57a",
   "metadata": {},
   "source": [
    "# Cara Pengumpulan Data\n",
    "Data bisa dikumpulkan dengan berbagai cara, yaitu:\n",
    "\n",
    "- **Observarsi**: Teknik pengumpulan data dengan cara mengamati. Contohnya, mengobserbasi perilaku manusia.\n",
    "- **Wawancara**: Teknik pengumpulan data dengan mengajukan pertanyaan secara lisan. Biasanya untuk mengetahui hal-hal yang mendalam dari responden.\n",
    "- **Kuisioner**: Pengumpulan data dengan memberi beberapa pertanyaan tertulis kepada responden untuk dijawab."
   ]
  },
  {
   "cell_type": "markdown",
   "id": "91e1582a-1cab-4d4b-8194-03d6f6aa59c2",
   "metadata": {},
   "source": [
    "# Contoh Soal Populasi Dan Sampel\n",
    "1. Beberapa siswa SMP Konahi akan melakukan penelitian \"kenakalan remaja didesa ninja Konahi\". Populasi dari penelitian tersebut adalah:\n",
    "- a) Seluruh pelajar didesa Konahi\n",
    "- b) Seluruh siswa SMP didesa konahi\n",
    "- c) Seluruh siswa nakal didesa Konahi\n",
    "- d) Seluruh remaja didesa Konahi\n",
    "\n",
    "Jawabannya adalah **d**, dikarenakan kita ingin melakukan penelitian terhadap seluruh remaja didesa Konahi.\n",
    "\n",
    "2. Sebuah lembaga survey ingin melakukan survey mengenai \"anak jalanan dikota Api\". Populasi yang tepat adalah:\n",
    "- a) Seluruh anak yatim piatu dikota Api\n",
    "- b) Seluruh anak tunawisma dijalanan kota Api\n",
    "- c) Seluruh anak putus sekolah dikota Api\n",
    "- d) Seluruh anak panti asuhan dikota Api\n",
    "\n",
    "Jawabannya adalah **b**, dikarenakan kita ingin melakukan sekumpulan penelitian kepada orang yang tidak memiliki tempat tinggal, yaitu tunawisma (seseorang yang tidak memiliki tempat tinggal).\n",
    "\n",
    "3. Dalam sebuah penelitian, populasinya adalah kesenian tradisional Indonesia. Sebaiknya sample yang diambil adalah:\n",
    "- a) Kesenian tradisional beberapa di Indonesia\n",
    "- b) Beberapa tarian tradisional Indonesia\n",
    "- c) Beberapa kesenian tradisional Jawa Barat\n",
    "- d) Beberapa kelompok wayang kulit di Jawa Timur\n",
    "\n",
    "Jawabannya adalah **a**, dikarenakan kita ingin melakukan sebagian dari penelitian kesenian tradisional Indonesia.\n",
    "\n",
    "4. Berikut ini yang **bukan** sample yang baik untuk populasi \"objek wisata Indonesia\" adalah:\n",
    "- a) Wisata gunung dibeberapa daerah Indonesia\n",
    "- b) Wisata pantai dibeberapa daerah Indonesia\n",
    "- c) Wisata dibeberapa laut dipulau Bali\n",
    "- d) Wisata sejarah dibeberapa daerah Indonesia\n",
    "\n",
    "Jawabannya adalah **c**, dikarenakan penelitian sample yang dilakukan hanya dipulau Bali saja, sedangkan populasi yang ingin kita teliti adalah \"objek wisata Indonesia\"\n",
    "\n",
    "5. Untuk mengetahui prestasi matematika siswa SMP kelas 7 disuatu provinsi, maka dicatatlah prestasi siswa SMP dibeberapa sekolah dalam provinsi itu. Populasi dan sampel dalam pengamatan itu adalah:\n",
    "- a) Seluruh siswa SMP kelas 7 disuatu provinsi dan siswa SMP kelas 7 dari beberapa sekolah\n",
    "- b) Beberapa sekolah SMP kelas 7 didalam provinsi itu dan seluruh siswa SMP kelas 7\n",
    "- c) Prestasi matematika dari siswa SMP satu provinsi\n",
    "- d) Prestasi matematika dari siswa SMP beberapa sekolah\n",
    "\n",
    "Jawabannya adalah **a**, dikarenakan populasi yang tepat untuk dilakukan sebagai penelitian adalah seluruh siswa SMP kelas 7 disuatu provinsi, dan sampelnya adalah siswa SMP kelas 7 dari beberapa sekolah didalam provinsi itu.\n",
    "\n",
    "6. Akan diselidiki pengaruh ekstrakurikuler terhadap pengembangan diri siswa di sebuah SMP. Contoh sampel yang baik dari penelitian tersebut adalah:\n",
    "- a) Siswa-Siswa di SMP tersebut\n",
    "- b) Siswa-siswa yang mengikuti ekstrakurikuler di SMP tersebut\n",
    "- c) Beberapa siswa dari setiap kelas, baik yang mengikuti ekstrakurikuler atau tidak di SMP tersebut\n",
    "- d) Beberapa siswa yang mengikuti ekstrakurikuler di masing-masing kelas di SMP teresebut\n",
    "\n",
    "Jawabannya adalah **c**, dikarenakan kita ingin mengetahui pengembangan diri dari beberapa siswa yang mengikuti atau tidak mengikuti kegiatan ekstrakurikuler."
   ]
  }
 ],
 "metadata": {
  "kernelspec": {
   "display_name": "Python 3 (ipykernel)",
   "language": "python",
   "name": "python3"
  },
  "language_info": {
   "codemirror_mode": {
    "name": "ipython",
    "version": 3
   },
   "file_extension": ".py",
   "mimetype": "text/x-python",
   "name": "python",
   "nbconvert_exporter": "python",
   "pygments_lexer": "ipython3",
   "version": "3.12.7"
  }
 },
 "nbformat": 4,
 "nbformat_minor": 5
}
