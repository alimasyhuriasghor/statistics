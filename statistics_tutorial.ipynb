{
 "cells": [
  {
   "cell_type": "markdown",
   "id": "04794e3e-7672-466d-b6fd-1a020d0b67c9",
   "metadata": {},
   "source": [
    "# 1. Introduction To Statistics And Data Presentation Diagrams"
   ]
  },
  {
   "cell_type": "markdown",
   "id": "c42849d2-097d-477c-986b-c6d35a636d61",
   "metadata": {},
   "source": [
    "# 2. Single Data Statistics Terms In Mathematics\n",
    "**Table of contents**:\n",
    "- Mean (arithmetic mean)\n",
    "- Mode\n",
    "- Median\n",
    "- Range\n",
    "- Quartiles\n",
    "- Quartile Deviation\n",
    "- Average Deviation\n",
    "- Variance\n",
    "- Standard Deviation"
   ]
  },
  {
   "cell_type": "markdown",
   "id": "28d83708-a242-4257-8e9d-6712be1664da",
   "metadata": {},
   "source": [
    "## Mean (Arithmetic Mean)\n",
    "Mean, or also known as the average, is an average value.\n",
    "\n",
    "The formula for the mean is:\n",
    "\n",
    "$$\\bar{x} = \\frac{x_1 + x_2 + ... + x_n}{n}$$\n",
    "\n",
    "Suppose we have 5 data which consist of numbers:"
   ]
  },
  {
   "cell_type": "code",
   "execution_count": 1,
   "id": "23c5c29b-cf74-451b-9c8d-b5e41c318e0f",
   "metadata": {},
   "outputs": [],
   "source": [
    "import numpy as np"
   ]
  },
  {
   "cell_type": "code",
   "execution_count": 2,
   "id": "dc2ba26f-d732-452f-96cf-af773e03f215",
   "metadata": {},
   "outputs": [
    {
     "data": {
      "text/plain": [
       "array([6, 8, 5, 7, 4])"
      ]
     },
     "execution_count": 2,
     "metadata": {},
     "output_type": "execute_result"
    }
   ],
   "source": [
    "# Generate 5 data of numbers\n",
    "random_nums = np.random.randint(1, 10, 5)\n",
    "random_nums"
   ]
  },
  {
   "cell_type": "markdown",
   "id": "b7cc8113-ead7-4e3f-8b44-ad6382f91265",
   "metadata": {},
   "source": [
    "Therefore, the mean value will be:\n",
    "\n",
    "$\\bar{x} = \\frac{4 + 2 + 1 + 7 + 6}{5}$\n",
    "\n",
    "$\\bar{x} = \\frac{20}{5}$\n",
    "\n",
    "$\\bar{x} = 5$"
   ]
  },
  {
   "cell_type": "markdown",
   "id": "8719f84b-63c4-4dc7-815d-eec7a9df59c6",
   "metadata": {},
   "source": [
    "In Python, we can accomplish the task using by using the `len()` and `sum()` built-in functions:"
   ]
  },
  {
   "cell_type": "code",
   "execution_count": 3,
   "id": "f5dacba2-0fdd-43b4-b5de-7cc4b55520e9",
   "metadata": {},
   "outputs": [
    {
     "data": {
      "text/plain": [
       "6.0"
      ]
     },
     "execution_count": 3,
     "metadata": {},
     "output_type": "execute_result"
    }
   ],
   "source": [
    "mean_value = sum(random_nums) / len(random_nums)\n",
    "mean_value"
   ]
  },
  {
   "cell_type": "markdown",
   "id": "27a7b807-1d96-4d9e-9ca7-0b15e0257ce7",
   "metadata": {},
   "source": [
    "However, in NumPy, it provides a method called `.mean()` to calculate the mean value, and it is way faster compared using the `len()` and `sum()` built-in functions."
   ]
  },
  {
   "cell_type": "code",
   "execution_count": 4,
   "id": "fc333a7b-c30f-4388-80fc-b6c5b53a75a5",
   "metadata": {},
   "outputs": [
    {
     "data": {
      "text/plain": [
       "6.0"
      ]
     },
     "execution_count": 4,
     "metadata": {},
     "output_type": "execute_result"
    }
   ],
   "source": [
    "np_mean_value = random_nums.mean()\n",
    "np_mean_value"
   ]
  },
  {
   "cell_type": "code",
   "execution_count": 5,
   "id": "d6fa6f01-cb1c-4a44-b535-5456c1b6dda1",
   "metadata": {},
   "outputs": [
    {
     "name": "stdout",
     "output_type": "stream",
     "text": [
      "44.7 ns ± 0.416 ns per loop (mean ± std. dev. of 7 runs, 10,000,000 loops each)\n"
     ]
    }
   ],
   "source": [
    "%timeit mean_value"
   ]
  },
  {
   "cell_type": "code",
   "execution_count": 6,
   "id": "05b93cab-adf7-40e1-b385-c98c49aa7528",
   "metadata": {},
   "outputs": [
    {
     "name": "stdout",
     "output_type": "stream",
     "text": [
      "42.1 ns ± 1.66 ns per loop (mean ± std. dev. of 7 runs, 10,000,000 loops each)\n"
     ]
    }
   ],
   "source": [
    "%timeit np_mean_value"
   ]
  }
 ],
 "metadata": {
  "kernelspec": {
   "display_name": "Python 3 (ipykernel)",
   "language": "python",
   "name": "python3"
  },
  "language_info": {
   "codemirror_mode": {
    "name": "ipython",
    "version": 3
   },
   "file_extension": ".py",
   "mimetype": "text/x-python",
   "name": "python",
   "nbconvert_exporter": "python",
   "pygments_lexer": "ipython3",
   "version": "3.12.7"
  }
 },
 "nbformat": 4,
 "nbformat_minor": 5
}
